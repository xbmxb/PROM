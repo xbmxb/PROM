{
 "cells": [
  {
   "cell_type": "code",
   "execution_count": 1,
   "metadata": {},
   "outputs": [
    {
     "data": {
      "text/plain": [
       "980267"
      ]
     },
     "execution_count": 1,
     "metadata": {},
     "output_type": "execute_result"
    }
   ],
   "source": [
    "#analysi of mini.json\n",
    "import json\n",
    "mini = './output_lead/mini_lead3_efd3.json'\n",
    "with open(mini, 'r') as f:\n",
    "    data=json.load(f)\n",
    "len(data)"
   ]
  },
  {
   "cell_type": "code",
   "execution_count": 3,
   "metadata": {},
   "outputs": [
    {
     "name": "stderr",
     "output_type": "stream",
     "text": [
      "100%|██████████| 1383724/1383724 [48:39<00:00, 473.97it/s] "
     ]
    },
    {
     "name": "stdout",
     "output_type": "stream",
     "text": [
      "src len in word  442.8481778158072\n",
      "src len in token  641.2946815983535\n",
      "tgt len in word  155.86061093108162\n",
      "tgt len in token  218.1823087552142\n"
     ]
    },
    {
     "name": "stderr",
     "output_type": "stream",
     "text": [
      "\n"
     ]
    }
   ],
   "source": [
    "from transformers import BartTokenizer\n",
    "from tqdm import tqdm\n",
    "tokenizer = BartTokenizer.from_pretrained('/xinbei_data/dgx_expr/light_copy/experiments/bart-selector-multi')\n",
    "s_w = []\n",
    "s_t = []\n",
    "t_w = []\n",
    "t_t = []\n",
    "# data = data[:544130]\n",
    "for i, d in tqdm(enumerate(data), total=len(data)):\n",
    "    # print(d['tgt'].split())\n",
    "    s_w.append(len(d['src'].split()))\n",
    "    # print(tokenizer.tokenize(d['tgt']))\n",
    "    s_t.append(len(tokenizer.tokenize(d['src'])))\n",
    "    t_w.append(len(d['tgt'].split()))\n",
    "    t_t.append(len(tokenizer.tokenize(d['tgt'])))\n",
    "    # if i>3:\n",
    "    #     break\n",
    "    # if i%10000 == 0:\n",
    "    #     print(\"processing line \", i)\n",
    "\n",
    "tol = len(s_w)\n",
    "# assert tol == i\n",
    "s_wavg = sum(s_w)/tol\n",
    "s_tavg = sum(s_t)/tol\n",
    "t_wavg = sum(t_w)/tol\n",
    "t_tavg = sum(t_t)/tol\n",
    "print('src len in word ', s_wavg)\n",
    "print('src len in token ', s_tavg)\n",
    "print('tgt len in word ', t_wavg)\n",
    "print('tgt len in token ', t_tavg)"
   ]
  },
  {
   "cell_type": "code",
   "execution_count": 4,
   "metadata": {},
   "outputs": [
    {
     "name": "stderr",
     "output_type": "stream",
     "text": [
      "100%|██████████| 1383724/1383724 [00:09<00:00, 146975.69it/s]"
     ]
    },
    {
     "name": "stdout",
     "output_type": "stream",
     "text": [
      "train:  1370132 1370132\n",
      "val:  13592 13592\n"
     ]
    },
    {
     "name": "stderr",
     "output_type": "stream",
     "text": [
      "\n"
     ]
    }
   ],
   "source": [
    "import random\n",
    "from transformers import BartTokenizer\n",
    "from tqdm import tqdm\n",
    "tokenizer = BartTokenizer.from_pretrained('/xinbei_data/dgx_expr/light_copy/experiments/bart-selector-multi')\n",
    "\n",
    "\n",
    "num_train = ([],[])\n",
    "num_val = ([],[])\n",
    "for i, d in enumerate(tqdm(data)):\n",
    "    # if i%10000 == 0:\n",
    "    #     print('processing ', i)\n",
    "\n",
    "    # if len(tokenizer.tokenize(d['src'])) > 1024:\n",
    "    #     continue\n",
    "    \n",
    "    if d['src'].strip() and d['tgt'].strip():\n",
    "        rd = random.random()\n",
    "        if rd <= 0.01: #val\n",
    "            # fvs.write(d['src']+'\\n')\n",
    "            # fvt.write(d['tgt']+'\\n')\n",
    "            num_val[0].append(d['src']+'\\n')\n",
    "            num_val[1].append(d['tgt']+'\\n')\n",
    "            # num_val+=1\n",
    "        else:\n",
    "            num_train[0].append(d['src']+'\\n')\n",
    "            num_train[1].append(d['tgt']+'\\n')\n",
    "            # num_train+=1\n",
    "\n",
    "    # if i>20:\n",
    "    #     break\n",
    "print('train: ', len(num_train[0]), len(num_train[1]))\n",
    "print('val: ', len(num_val[0]), len(num_val[1]))"
   ]
  },
  {
   "cell_type": "code",
   "execution_count": 6,
   "metadata": {},
   "outputs": [],
   "source": [
    "ts = 'output_lead/mini/train.source'\n",
    "tt = 'output_lead/mini/train.target'\n",
    "vs = 'output_lead/mini/test.source'\n",
    "vt = 'output_lead/mini/test.target'\n",
    "fts = open(ts, 'w')\n",
    "ftt = open(tt, 'w')\n",
    "fvs = open(vs, 'w')\n",
    "fvt = open(vt, 'w')\n",
    "fts.writelines(num_train[0])\n",
    "ftt.writelines(num_train[1])\n",
    "fvs.writelines(num_val[0])\n",
    "fvt.writelines(num_val[1])\n",
    "fts.close()\n",
    "ftt.close()\n",
    "fvs.close()\n",
    "fvt.close()"
   ]
  }
 ],
 "metadata": {
  "kernelspec": {
   "display_name": "Python 3.6.12 ('SQuAD2')",
   "language": "python",
   "name": "python3"
  },
  "language_info": {
   "codemirror_mode": {
    "name": "ipython",
    "version": 3
   },
   "file_extension": ".py",
   "mimetype": "text/x-python",
   "name": "python",
   "nbconvert_exporter": "python",
   "pygments_lexer": "ipython3",
   "version": "3.6.12"
  },
  "orig_nbformat": 4,
  "vscode": {
   "interpreter": {
    "hash": "fb53c652c6ab420eca39ca1a3ebbde97bfda49c734ca3cd9014af2a4353e0ed7"
   }
  }
 },
 "nbformat": 4,
 "nbformat_minor": 2
}
