{
 "cells": [
  {
   "cell_type": "code",
   "execution_count": 1,
   "metadata": {},
   "outputs": [
    {
     "data": {
      "text/plain": [
       "489505"
      ]
     },
     "execution_count": 1,
     "metadata": {},
     "output_type": "execute_result"
    }
   ],
   "source": [
    "#analysi of mini.json\n",
    "import json\n",
    "mini = './output_nat/mini_nat_efd18.json'\n",
    "with open(mini, 'r') as f:\n",
    "    data=json.load(f)\n",
    "len(data)"
   ]
  },
  {
   "cell_type": "code",
   "execution_count": 2,
   "metadata": {},
   "outputs": [
    {
     "name": "stdout",
     "output_type": "stream",
     "text": [
      "processing line  0\n",
      "processing line  10000\n",
      "processing line  20000\n",
      "processing line  30000\n",
      "processing line  40000\n",
      "processing line  50000\n",
      "processing line  60000\n",
      "processing line  70000\n",
      "processing line  80000\n",
      "processing line  90000\n",
      "processing line  100000\n",
      "processing line  110000\n",
      "processing line  120000\n",
      "processing line  130000\n",
      "processing line  140000\n",
      "processing line  150000\n",
      "processing line  160000\n",
      "processing line  170000\n",
      "processing line  180000\n",
      "processing line  190000\n",
      "processing line  200000\n",
      "processing line  210000\n",
      "processing line  220000\n",
      "processing line  230000\n",
      "processing line  240000\n",
      "processing line  250000\n",
      "processing line  260000\n",
      "processing line  270000\n",
      "processing line  280000\n",
      "processing line  290000\n",
      "processing line  300000\n",
      "processing line  310000\n",
      "processing line  320000\n",
      "processing line  330000\n",
      "processing line  340000\n",
      "processing line  350000\n",
      "processing line  360000\n",
      "processing line  370000\n",
      "processing line  380000\n",
      "processing line  390000\n",
      "processing line  400000\n",
      "processing line  410000\n",
      "processing line  420000\n",
      "processing line  430000\n",
      "processing line  440000\n",
      "processing line  450000\n",
      "processing line  460000\n",
      "processing line  470000\n",
      "processing line  480000\n",
      "src len in word  2395.892438279486\n",
      "src len in token  2672.5163461047387\n",
      "tgt len in word  795.9924331722863\n",
      "tgt len in token  884.4705488197261\n"
     ]
    }
   ],
   "source": [
    "from transformers import BartTokenizer\n",
    "from tqdm import tqdm\n",
    "tokenizer = BartTokenizer.from_pretrained('/xinbei_data/dgx_expr/light_copy/experiments/bart-selector-multi')\n",
    "s_w = []\n",
    "s_t = []\n",
    "t_w = []\n",
    "t_t = []\n",
    "# data = data[:544130]\n",
    "for i, d in enumerate(data):\n",
    "    # print(d['tgt'].split())\n",
    "    s_w.append(len(d['src'].split()))\n",
    "    # print(tokenizer.tokenize(d['tgt']))\n",
    "    s_t.append(len(tokenizer.tokenize(d['src'])))\n",
    "    t_w.append(len(d['tgt'].split()))\n",
    "    t_t.append(len(tokenizer.tokenize(d['tgt'])))\n",
    "    # if i>3:\n",
    "    #     break\n",
    "    if i%10000 == 0:\n",
    "        print(\"processing line \", i)\n",
    "\n",
    "tol = len(s_w)\n",
    "# assert tol == i\n",
    "s_wavg = sum(s_w)/tol\n",
    "s_tavg = sum(s_t)/tol\n",
    "t_wavg = sum(t_w)/tol\n",
    "t_tavg = sum(t_t)/tol\n",
    "print('src len in word ', s_wavg)\n",
    "print('src len in token ', s_tavg)\n",
    "print('tgt len in word ', t_wavg)\n",
    "print('tgt len in token ', t_tavg)"
   ]
  },
  {
   "cell_type": "code",
   "execution_count": 3,
   "metadata": {},
   "outputs": [
    {
     "name": "stderr",
     "output_type": "stream",
     "text": [
      "  0%|          | 63/489505 [00:00<13:07, 621.26it/s]"
     ]
    },
    {
     "name": "stdout",
     "output_type": "stream",
     "text": [
      "processing  0\n"
     ]
    },
    {
     "name": "stderr",
     "output_type": "stream",
     "text": [
      "  2%|▏         | 10054/489505 [00:12<10:28, 762.36it/s]"
     ]
    },
    {
     "name": "stdout",
     "output_type": "stream",
     "text": [
      "processing  10000\n"
     ]
    },
    {
     "name": "stderr",
     "output_type": "stream",
     "text": [
      "  4%|▍         | 20024/489505 [00:27<11:58, 653.85it/s] "
     ]
    },
    {
     "name": "stdout",
     "output_type": "stream",
     "text": [
      "processing  20000\n"
     ]
    },
    {
     "name": "stderr",
     "output_type": "stream",
     "text": [
      "  6%|▌         | 30240/489505 [00:45<08:49, 866.72it/s] "
     ]
    },
    {
     "name": "stdout",
     "output_type": "stream",
     "text": [
      "processing  30000\n"
     ]
    },
    {
     "name": "stderr",
     "output_type": "stream",
     "text": [
      "  8%|▊         | 40025/489505 [01:09<17:51, 419.58it/s] "
     ]
    },
    {
     "name": "stdout",
     "output_type": "stream",
     "text": [
      "processing  40000\n"
     ]
    },
    {
     "name": "stderr",
     "output_type": "stream",
     "text": [
      " 10%|█         | 50015/489505 [01:38<18:30, 395.64it/s]"
     ]
    },
    {
     "name": "stdout",
     "output_type": "stream",
     "text": [
      "processing  50000\n"
     ]
    },
    {
     "name": "stderr",
     "output_type": "stream",
     "text": [
      " 12%|█▏        | 60019/489505 [02:07<25:31, 280.51it/s] "
     ]
    },
    {
     "name": "stdout",
     "output_type": "stream",
     "text": [
      "processing  60000\n"
     ]
    },
    {
     "name": "stderr",
     "output_type": "stream",
     "text": [
      " 14%|█▍        | 70036/489505 [02:46<26:07, 267.60it/s]"
     ]
    },
    {
     "name": "stdout",
     "output_type": "stream",
     "text": [
      "processing  70000\n"
     ]
    },
    {
     "name": "stderr",
     "output_type": "stream",
     "text": [
      " 16%|█▋        | 80019/489505 [03:29<33:48, 201.84it/s]"
     ]
    },
    {
     "name": "stdout",
     "output_type": "stream",
     "text": [
      "processing  80000\n"
     ]
    },
    {
     "name": "stderr",
     "output_type": "stream",
     "text": [
      " 18%|█▊        | 90026/489505 [04:14<30:34, 217.70it/s] "
     ]
    },
    {
     "name": "stdout",
     "output_type": "stream",
     "text": [
      "processing  90000\n"
     ]
    },
    {
     "name": "stderr",
     "output_type": "stream",
     "text": [
      " 20%|██        | 100014/489505 [05:03<46:50, 138.59it/s] "
     ]
    },
    {
     "name": "stdout",
     "output_type": "stream",
     "text": [
      "processing  100000\n"
     ]
    },
    {
     "name": "stderr",
     "output_type": "stream",
     "text": [
      " 22%|██▏       | 110024/489505 [06:00<29:27, 214.67it/s]  "
     ]
    },
    {
     "name": "stdout",
     "output_type": "stream",
     "text": [
      "processing  110000\n"
     ]
    },
    {
     "name": "stderr",
     "output_type": "stream",
     "text": [
      " 25%|██▍       | 120058/489505 [07:00<14:05, 436.81it/s]  "
     ]
    },
    {
     "name": "stdout",
     "output_type": "stream",
     "text": [
      "processing  120000\n"
     ]
    },
    {
     "name": "stderr",
     "output_type": "stream",
     "text": [
      " 27%|██▋       | 130077/489505 [07:14<09:16, 645.91it/s]"
     ]
    },
    {
     "name": "stdout",
     "output_type": "stream",
     "text": [
      "processing  130000\n"
     ]
    },
    {
     "name": "stderr",
     "output_type": "stream",
     "text": [
      " 29%|██▊       | 140092/489505 [07:31<09:58, 583.89it/s]"
     ]
    },
    {
     "name": "stdout",
     "output_type": "stream",
     "text": [
      "processing  140000\n"
     ]
    },
    {
     "name": "stderr",
     "output_type": "stream",
     "text": [
      " 31%|███       | 150094/489505 [07:48<09:25, 600.20it/s]"
     ]
    },
    {
     "name": "stdout",
     "output_type": "stream",
     "text": [
      "processing  150000\n"
     ]
    },
    {
     "name": "stderr",
     "output_type": "stream",
     "text": [
      " 33%|███▎      | 160105/489505 [08:03<07:56, 691.54it/s]"
     ]
    },
    {
     "name": "stdout",
     "output_type": "stream",
     "text": [
      "processing  160000\n"
     ]
    },
    {
     "name": "stderr",
     "output_type": "stream",
     "text": [
      " 35%|███▍      | 170093/489505 [08:18<07:42, 690.09it/s]"
     ]
    },
    {
     "name": "stdout",
     "output_type": "stream",
     "text": [
      "processing  170000\n"
     ]
    },
    {
     "name": "stderr",
     "output_type": "stream",
     "text": [
      " 37%|███▋      | 180084/489505 [08:33<07:24, 695.71it/s]"
     ]
    },
    {
     "name": "stdout",
     "output_type": "stream",
     "text": [
      "processing  180000\n"
     ]
    },
    {
     "name": "stderr",
     "output_type": "stream",
     "text": [
      " 39%|███▉      | 190073/489505 [08:48<07:29, 665.77it/s]"
     ]
    },
    {
     "name": "stdout",
     "output_type": "stream",
     "text": [
      "processing  190000\n"
     ]
    },
    {
     "name": "stderr",
     "output_type": "stream",
     "text": [
      " 41%|████      | 200069/489505 [09:04<07:21, 654.84it/s]"
     ]
    },
    {
     "name": "stdout",
     "output_type": "stream",
     "text": [
      "processing  200000\n"
     ]
    },
    {
     "name": "stderr",
     "output_type": "stream",
     "text": [
      " 43%|████▎     | 210087/489505 [09:20<06:41, 695.21it/s]"
     ]
    },
    {
     "name": "stdout",
     "output_type": "stream",
     "text": [
      "processing  210000\n"
     ]
    },
    {
     "name": "stderr",
     "output_type": "stream",
     "text": [
      " 45%|████▍     | 220052/489505 [09:36<07:09, 627.62it/s]"
     ]
    },
    {
     "name": "stdout",
     "output_type": "stream",
     "text": [
      "processing  220000\n"
     ]
    },
    {
     "name": "stderr",
     "output_type": "stream",
     "text": [
      " 47%|████▋     | 230084/489505 [09:54<06:25, 673.67it/s]"
     ]
    },
    {
     "name": "stdout",
     "output_type": "stream",
     "text": [
      "processing  230000\n"
     ]
    },
    {
     "name": "stderr",
     "output_type": "stream",
     "text": [
      " 49%|████▉     | 240048/489505 [10:10<06:27, 643.75it/s]"
     ]
    },
    {
     "name": "stdout",
     "output_type": "stream",
     "text": [
      "processing  240000\n"
     ]
    },
    {
     "name": "stderr",
     "output_type": "stream",
     "text": [
      " 51%|█████     | 250068/489505 [10:26<07:04, 563.45it/s]"
     ]
    },
    {
     "name": "stdout",
     "output_type": "stream",
     "text": [
      "processing  250000\n"
     ]
    },
    {
     "name": "stderr",
     "output_type": "stream",
     "text": [
      " 53%|█████▎    | 260152/489505 [10:43<05:26, 701.96it/s]"
     ]
    },
    {
     "name": "stdout",
     "output_type": "stream",
     "text": [
      "processing  260000\n"
     ]
    },
    {
     "name": "stderr",
     "output_type": "stream",
     "text": [
      " 55%|█████▌    | 270084/489505 [11:01<07:35, 481.73it/s]"
     ]
    },
    {
     "name": "stdout",
     "output_type": "stream",
     "text": [
      "processing  270000\n"
     ]
    },
    {
     "name": "stderr",
     "output_type": "stream",
     "text": [
      " 57%|█████▋    | 280013/489505 [11:21<07:19, 477.11it/s]"
     ]
    },
    {
     "name": "stdout",
     "output_type": "stream",
     "text": [
      "processing  280000\n"
     ]
    },
    {
     "name": "stderr",
     "output_type": "stream",
     "text": [
      " 59%|█████▉    | 290047/489505 [11:42<07:42, 431.19it/s]"
     ]
    },
    {
     "name": "stdout",
     "output_type": "stream",
     "text": [
      "processing  290000\n"
     ]
    },
    {
     "name": "stderr",
     "output_type": "stream",
     "text": [
      " 61%|██████▏   | 300062/489505 [12:05<07:24, 426.37it/s]"
     ]
    },
    {
     "name": "stdout",
     "output_type": "stream",
     "text": [
      "processing  300000\n"
     ]
    },
    {
     "name": "stderr",
     "output_type": "stream",
     "text": [
      " 63%|██████▎   | 310043/489505 [12:30<08:50, 338.20it/s]"
     ]
    },
    {
     "name": "stdout",
     "output_type": "stream",
     "text": [
      "processing  310000\n"
     ]
    },
    {
     "name": "stderr",
     "output_type": "stream",
     "text": [
      " 65%|██████▌   | 320055/489505 [12:57<09:08, 308.90it/s] "
     ]
    },
    {
     "name": "stdout",
     "output_type": "stream",
     "text": [
      "processing  320000\n"
     ]
    },
    {
     "name": "stderr",
     "output_type": "stream",
     "text": [
      " 67%|██████▋   | 330103/489505 [13:25<05:01, 528.76it/s]"
     ]
    },
    {
     "name": "stdout",
     "output_type": "stream",
     "text": [
      "processing  330000\n"
     ]
    },
    {
     "name": "stderr",
     "output_type": "stream",
     "text": [
      " 69%|██████▉   | 340033/489505 [13:53<07:20, 339.04it/s]"
     ]
    },
    {
     "name": "stdout",
     "output_type": "stream",
     "text": [
      "processing  340000\n"
     ]
    },
    {
     "name": "stderr",
     "output_type": "stream",
     "text": [
      " 72%|███████▏  | 350060/489505 [14:21<06:20, 366.44it/s]"
     ]
    },
    {
     "name": "stdout",
     "output_type": "stream",
     "text": [
      "processing  350000\n"
     ]
    },
    {
     "name": "stderr",
     "output_type": "stream",
     "text": [
      " 74%|███████▎  | 360003/489505 [16:01<1:15:05, 28.74it/s]"
     ]
    },
    {
     "name": "stdout",
     "output_type": "stream",
     "text": [
      "processing  360000\n"
     ]
    },
    {
     "name": "stderr",
     "output_type": "stream",
     "text": [
      " 76%|███████▌  | 370001/489505 [21:36<58:10, 34.23it/s]  "
     ]
    },
    {
     "name": "stdout",
     "output_type": "stream",
     "text": [
      "processing  370000\n"
     ]
    },
    {
     "name": "stderr",
     "output_type": "stream",
     "text": [
      " 78%|███████▊  | 380006/489505 [26:17<44:58, 40.58it/s]  "
     ]
    },
    {
     "name": "stdout",
     "output_type": "stream",
     "text": [
      "processing  380000\n"
     ]
    },
    {
     "name": "stderr",
     "output_type": "stream",
     "text": [
      " 80%|███████▉  | 390003/489505 [30:40<41:27, 40.00it/s]  "
     ]
    },
    {
     "name": "stdout",
     "output_type": "stream",
     "text": [
      "processing  390000\n"
     ]
    },
    {
     "name": "stderr",
     "output_type": "stream",
     "text": [
      " 82%|████████▏ | 400006/489505 [34:46<30:04, 49.61it/s]  "
     ]
    },
    {
     "name": "stdout",
     "output_type": "stream",
     "text": [
      "processing  400000\n"
     ]
    },
    {
     "name": "stderr",
     "output_type": "stream",
     "text": [
      " 84%|████████▍ | 410005/489505 [38:41<29:26, 45.02it/s]  "
     ]
    },
    {
     "name": "stdout",
     "output_type": "stream",
     "text": [
      "processing  410000\n"
     ]
    },
    {
     "name": "stderr",
     "output_type": "stream",
     "text": [
      " 86%|████████▌ | 420006/489505 [42:32<22:37, 51.19it/s]  "
     ]
    },
    {
     "name": "stdout",
     "output_type": "stream",
     "text": [
      "processing  420000\n"
     ]
    },
    {
     "name": "stderr",
     "output_type": "stream",
     "text": [
      " 88%|████████▊ | 430005/489505 [46:13<21:43, 45.64it/s]  "
     ]
    },
    {
     "name": "stdout",
     "output_type": "stream",
     "text": [
      "processing  430000\n"
     ]
    },
    {
     "name": "stderr",
     "output_type": "stream",
     "text": [
      " 90%|████████▉ | 440011/489505 [49:48<15:35, 52.91it/s]"
     ]
    },
    {
     "name": "stdout",
     "output_type": "stream",
     "text": [
      "processing  440000\n"
     ]
    },
    {
     "name": "stderr",
     "output_type": "stream",
     "text": [
      " 92%|█████████▏| 450006/489505 [53:12<15:20, 42.89it/s]"
     ]
    },
    {
     "name": "stdout",
     "output_type": "stream",
     "text": [
      "processing  450000\n"
     ]
    },
    {
     "name": "stderr",
     "output_type": "stream",
     "text": [
      " 94%|█████████▍| 460010/489505 [56:31<08:49, 55.70it/s]"
     ]
    },
    {
     "name": "stdout",
     "output_type": "stream",
     "text": [
      "processing  460000\n"
     ]
    },
    {
     "name": "stderr",
     "output_type": "stream",
     "text": [
      " 96%|█████████▌| 470009/489505 [59:44<06:03, 53.60it/s]"
     ]
    },
    {
     "name": "stdout",
     "output_type": "stream",
     "text": [
      "processing  470000\n"
     ]
    },
    {
     "name": "stderr",
     "output_type": "stream",
     "text": [
      " 98%|█████████▊| 480007/489505 [1:02:47<02:51, 55.51it/s]"
     ]
    },
    {
     "name": "stdout",
     "output_type": "stream",
     "text": [
      "processing  480000\n"
     ]
    },
    {
     "name": "stderr",
     "output_type": "stream",
     "text": [
      "100%|██████████| 489505/489505 [1:05:37<00:00, 124.32it/s]"
     ]
    },
    {
     "name": "stdout",
     "output_type": "stream",
     "text": [
      "train:  484261 484261\n",
      "val:  4976 4976\n"
     ]
    },
    {
     "name": "stderr",
     "output_type": "stream",
     "text": [
      "\n"
     ]
    }
   ],
   "source": [
    "import random\n",
    "from transformers import BartTokenizer\n",
    "from tqdm import tqdm\n",
    "tokenizer = BartTokenizer.from_pretrained('/xinbei_data/dgx_expr/light_copy/experiments/bart-selector-multi')\n",
    "\n",
    "\n",
    "num_train = ([],[])\n",
    "num_val = ([],[])\n",
    "for i, d in enumerate(tqdm(data)):\n",
    "    if i%10000 == 0:\n",
    "        print('processing ', i)\n",
    "\n",
    "    if len(tokenizer.tokenize(d['src'])) > 2048 and len(tokenizer.tokenize(d['tgt'])) < 50:\n",
    "        continue\n",
    "    \n",
    "    if d['src'].strip() and d['tgt'].strip():\n",
    "        rd = random.random()\n",
    "        if rd <= 0.01: #val\n",
    "            # fvs.write(d['src']+'\\n')\n",
    "            # fvt.write(d['tgt']+'\\n')\n",
    "            num_val[0].append(d['src']+'\\n')\n",
    "            num_val[1].append(d['tgt']+'\\n')\n",
    "            # num_val+=1\n",
    "        else:\n",
    "            num_train[0].append(d['src']+'\\n')\n",
    "            num_train[1].append(d['tgt']+'\\n')\n",
    "            # num_train+=1\n",
    "\n",
    "    # if i>20:\n",
    "    #     break\n",
    "print('train: ', len(num_train[0]), len(num_train[1]))\n",
    "print('val: ', len(num_val[0]), len(num_val[1]))"
   ]
  },
  {
   "cell_type": "code",
   "execution_count": 8,
   "metadata": {},
   "outputs": [],
   "source": [
    "ts = 'output_nat/mininat/train.source'\n",
    "tt = 'output_nat/mininat/train.target'\n",
    "vs = 'output_nat/mininat/test.source'\n",
    "vt = 'output_nat/mininat/test.target'\n",
    "fts = open(ts, 'w')\n",
    "ftt = open(tt, 'w')\n",
    "fvs = open(vs, 'w')\n",
    "fvt = open(vt, 'w')\n",
    "fts.writelines(num_train[0])\n",
    "ftt.writelines(num_train[1])\n",
    "fvs.writelines(num_val[0])\n",
    "fvt.writelines(num_val[1])\n",
    "fts.close()\n",
    "ftt.close()\n",
    "fvs.close()\n",
    "fvt.close()"
   ]
  }
 ],
 "metadata": {
  "kernelspec": {
   "display_name": "Python 3.6.12 ('SQuAD2')",
   "language": "python",
   "name": "python3"
  },
  "language_info": {
   "codemirror_mode": {
    "name": "ipython",
    "version": 3
   },
   "file_extension": ".py",
   "mimetype": "text/x-python",
   "name": "python",
   "nbconvert_exporter": "python",
   "pygments_lexer": "ipython3",
   "version": "3.6.12"
  },
  "orig_nbformat": 4,
  "vscode": {
   "interpreter": {
    "hash": "fb53c652c6ab420eca39ca1a3ebbde97bfda49c734ca3cd9014af2a4353e0ed7"
   }
  }
 },
 "nbformat": 4,
 "nbformat_minor": 2
}
